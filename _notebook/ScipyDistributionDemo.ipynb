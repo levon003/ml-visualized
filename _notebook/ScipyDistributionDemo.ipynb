{
 "cells": [
  {
   "cell_type": "markdown",
   "id": "39bdf729",
   "metadata": {},
   "source": [
    "### Scipy Distribution Demo\n",
    "\n",
    "For Matthew McNamara - Feb 3, 2022\n",
    "\n",
    "#### Optimizer Benchmarking Needs to Account for Hyperparameter Tuning:\n",
    "\n",
    "From Table 2: Optimizers evaluated. For each hyperparameter, we calibrated a 'prior distribution' to give good results across tasks. \n",
    "$\\mathcal{U}[a, b]$ is the continuous uniform distribution on $[a, b]$. \n",
    "Log-uniform($a$, $b$) is a distribution whose logarithm is $\\mathcal{U}[a, b]$.\n",
    "Log-normal($\\mu$,$\\sigma$) is a distribution whose logarithm is $\\mathcal{N}(\\mu, \\sigma^2)$.\n",
    "\n",
    "Adam parameters and cross-task priors are:\n",
    " * Learning rate: Log-normal(-2.69, 1.42)\n",
    " * $\\beta_1, \\beta_2$: 1 - Log-uniform(-5, -1)\n",
    " * ε: Log-uniform(-8, 0)\n",
    "\n",
    "https://arxiv.org/pdf/1910.11758.pdf"
   ]
  },
  {
   "cell_type": "code",
   "execution_count": 1,
   "id": "3cd7a956",
   "metadata": {},
   "outputs": [],
   "source": [
    "# scipy imports\n",
    "import scipy\n",
    "from scipy.stats import loguniform, uniform, lognorm, norm"
   ]
  },
  {
   "cell_type": "code",
   "execution_count": 2,
   "id": "2c160b97",
   "metadata": {},
   "outputs": [],
   "source": [
    "import matplotlib.pyplot as plt\n",
    "import numpy as np"
   ]
  },
  {
   "cell_type": "markdown",
   "id": "850392de",
   "metadata": {},
   "source": [
    "#### Learning rate\n",
    "\n",
    "https://docs.scipy.org/doc/scipy/reference/generated/scipy.stats.lognorm.html\n",
    "\n",
    "\"A common parametrization for a lognormal random variable Y is in terms of the mean, mu, and standard deviation, sigma, of the unique normally distributed random variable X such that exp(X) = Y. This parametrization corresponds to setting s = sigma and scale = exp(mu).\"\n",
    "\n"
   ]
  },
  {
   "cell_type": "code",
   "execution_count": 3,
   "id": "384a144a",
   "metadata": {},
   "outputs": [
    {
     "data": {
      "text/plain": [
       "<scipy.stats._distn_infrastructure.rv_frozen at 0x7fd5f40fbc90>"
      ]
     },
     "execution_count": 3,
     "metadata": {},
     "output_type": "execute_result"
    }
   ],
   "source": [
    "mu, sigma = -2.69, 1.42\n",
    "s = sigma\n",
    "scale = np.exp(mu)\n",
    "rv = lognorm(s=s, scale=scale)\n",
    "rv"
   ]
  },
  {
   "cell_type": "code",
   "execution_count": 4,
   "id": "844f829b",
   "metadata": {},
   "outputs": [
    {
     "data": {
      "text/plain": [
       "(0.06788093937176144, -2.69)"
      ]
     },
     "execution_count": 4,
     "metadata": {},
     "output_type": "execute_result"
    }
   ],
   "source": [
    "np.exp(mu), mu"
   ]
  },
  {
   "cell_type": "code",
   "execution_count": 5,
   "id": "08d52d7b",
   "metadata": {},
   "outputs": [
    {
     "data": {
      "image/png": "[encoded data removed]",
      "text/plain": [
       "<Figure size 432x288 with 1 Axes>"
      ]
     },
     "metadata": {
      "needs_background": "light"
     },
     "output_type": "display_data"
    }
   ],
   "source": [
    "fig, ax = plt.subplots(1, 1)\n",
    "\n",
    "x = np.linspace(rv.ppf(0), rv.ppf(0.99), 1000)\n",
    "y = rv.pdf(x)\n",
    "ax.plot(x, y)\n",
    "\n",
    "#ax.set_yscale('log')  # uncomment if you want to see the weight of the distribution more clearly\n",
    "\n",
    "plt.show()"
   ]
  },
  {
   "cell_type": "code",
   "execution_count": 6,
   "id": "84ca4f8f",
   "metadata": {},
   "outputs": [
    {
     "data": {
      "text/plain": [
       "array([0.        , 0.2051917 , 0.41038341, 0.61557511, 0.82076682,\n",
       "       1.02595852, 1.23115022, 1.43634193, 1.64153363, 1.84672533])"
      ]
     },
     "execution_count": 6,
     "metadata": {},
     "output_type": "execute_result"
    }
   ],
   "source": [
    "# this is what a uniform search over the space would produce\n",
    "np.linspace(rv.ppf(0), rv.ppf(0.99), 10)"
   ]
  },
  {
   "cell_type": "code",
   "execution_count": 7,
   "id": "0f3178fd",
   "metadata": {},
   "outputs": [
    {
     "data": {
      "text/plain": [
       "array([0.00700783, 0.00747721, 0.00799736, 0.02124428, 0.02745207,\n",
       "       0.05070588, 0.08109206, 0.09686448, 0.16864326, 0.28249289])"
      ]
     },
     "execution_count": 7,
     "metadata": {},
     "output_type": "execute_result"
    }
   ],
   "source": [
    "# here are the values that would be produced if we used Random Search (like the paper) with a budget of 10\n",
    "np.sort(rv.rvs(size=10))"
   ]
  },
  {
   "cell_type": "markdown",
   "id": "319d8671",
   "metadata": {},
   "source": [
    "#### $\\beta$ parameters\n",
    "\n",
    "Here, we have to use the loguniform distribution."
   ]
  },
  {
   "cell_type": "code",
   "execution_count": 8,
   "id": "d99b540d",
   "metadata": {},
   "outputs": [
    {
     "data": {
      "text/plain": [
       "(0.006737946999085467, 0.36787944117144233)"
      ]
     },
     "execution_count": 8,
     "metadata": {},
     "output_type": "execute_result"
    }
   ],
   "source": [
    "np.exp(-5), np.exp(-1)"
   ]
  },
  {
   "cell_type": "code",
   "execution_count": 9,
   "id": "aa6dbcaa",
   "metadata": {},
   "outputs": [
    {
     "data": {
      "text/plain": [
       "<scipy.stats._distn_infrastructure.rv_frozen at 0x7fd5f38eab90>"
      ]
     },
     "execution_count": 9,
     "metadata": {},
     "output_type": "execute_result"
    }
   ],
   "source": [
    "rv = loguniform(np.exp(-5), np.exp(-1))\n",
    "rv"
   ]
  },
  {
   "cell_type": "code",
   "execution_count": 10,
   "id": "26bf4388",
   "metadata": {},
   "outputs": [
    {
     "data": {
      "image/png": "[encoded data removed]",
      "text/plain": [
       "<Figure size 432x288 with 1 Axes>"
      ]
     },
     "metadata": {
      "needs_background": "light"
     },
     "output_type": "display_data"
    }
   ],
   "source": [
    "fig, ax = plt.subplots(1, 1)\n",
    "\n",
    "x = np.linspace(rv.ppf(0.01), rv.ppf(0.99), 100)\n",
    "y = 1 - rv.pdf(x)\n",
    "ax.plot(x, y)\n",
    "\n",
    "\n",
    "plt.show()"
   ]
  },
  {
   "cell_type": "code",
   "execution_count": 11,
   "id": "b00f54b5",
   "metadata": {},
   "outputs": [
    {
     "data": {
      "text/plain": [
       "array([0.99326205, 0.95313522, 0.91300839, 0.87288155, 0.83275472,\n",
       "       0.79262789, 0.75250106, 0.71237422, 0.67224739, 0.63212056])"
      ]
     },
     "execution_count": 11,
     "metadata": {},
     "output_type": "execute_result"
    }
   ],
   "source": [
    "# this is what a uniform search over the space would produce\n",
    "1 - np.linspace(rv.ppf(0), rv.ppf(1), 10)"
   ]
  },
  {
   "cell_type": "code",
   "execution_count": 12,
   "id": "ca2bd1ea",
   "metadata": {},
   "outputs": [
    {
     "data": {
      "text/plain": [
       "array([0.99085731, 0.98976449, 0.97519771, 0.95985265, 0.93720701,\n",
       "       0.93366277, 0.90805917, 0.89368935, 0.80641242, 0.77010052])"
      ]
     },
     "execution_count": 12,
     "metadata": {},
     "output_type": "execute_result"
    }
   ],
   "source": [
    "# here are the values that would be produced if we used Random Search (like the paper) with a budget of 10\n",
    "1 - np.sort(rv.rvs(size=10))"
   ]
  },
  {
   "cell_type": "code",
   "execution_count": null,
   "id": "a55de942",
   "metadata": {},
   "outputs": [],
   "source": []
  }
 ],
 "metadata": {
  "kernelspec": {
   "display_name": "Python 3",
   "language": "python",
   "name": "python3"
  },
  "language_info": {
   "codemirror_mode": {
    "name": "ipython",
    "version": 3
   },
   "file_extension": ".py",
   "mimetype": "text/x-python",
   "name": "python",
   "nbconvert_exporter": "python",
   "pygments_lexer": "ipython3",
   "version": "3.7.10"
  }
 },
 "nbformat": 4,
 "nbformat_minor": 5
}
