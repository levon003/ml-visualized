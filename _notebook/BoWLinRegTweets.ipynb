{
 "cells": [
  {
   "cell_type": "markdown",
   "metadata": {},
   "source": [
    "# Basics of machine learning with text data: bag-of-words for linear regression\n",
    "\n"
   ]
  },
  {
   "cell_type": "markdown",
   "metadata": {},
   "source": [
    "The `wget` command below should work on Linux or Mac OS (if wget is installed). Otherwise, just download the data and run the notebook from wherever you downloaded the data to."
   ]
  },
  {
   "cell_type": "code",
   "execution_count": 3,
   "metadata": {},
   "outputs": [
    {
     "name": "stdout",
     "output_type": "stream",
     "text": [
      "--2021-10-23 16:12:33--  https://files.pushshift.io/twitter/US_PoliticalTweets.tar.gz\n",
      "Resolving files.pushshift.io (files.pushshift.io)... 172.67.174.211, 104.21.55.251\n",
      "Connecting to files.pushshift.io (files.pushshift.io)|172.67.174.211|:443... connected.\n",
      "HTTP request sent, awaiting response... 200 OK\n",
      "Length: 240797053 (230M) [application/octet-stream]\n",
      "Saving to: ‘STDOUT’\n",
      "\n",
      "-                   100%[===================>] 229.64M  11.2MB/s    in 21s     \n",
      "\n",
      "2021-10-23 16:12:55 (10.9 MB/s) - written to stdout [240797053/240797053]\n",
      "\n"
     ]
    }
   ],
   "source": [
    "# this should work on Mac (if wget is installed) or Unix\n",
    "!wget -O - https://files.pushshift.io/twitter/US_PoliticalTweets.tar.gz | tar -xz"
   ]
  },
  {
   "cell_type": "code",
   "execution_count": 5,
   "metadata": {},
   "outputs": [
    {
     "name": "stdout",
     "output_type": "stream",
     "text": [
      "1.5G\ttweets.json\n",
      "916K\tusers.json\n"
     ]
    }
   ],
   "source": [
    "!du -h *.json"
   ]
  },
  {
   "cell_type": "code",
   "execution_count": 1,
   "metadata": {},
   "outputs": [],
   "source": [
    "import numpy as np\n",
    "import pandas as pd\n",
    "import matplotlib.pyplot as plt"
   ]
  },
  {
   "cell_type": "code",
   "execution_count": 2,
   "metadata": {},
   "outputs": [],
   "source": [
    "import matplotlib\n",
    "matplotlib.rcParams['figure.dpi'] = 100"
   ]
  },
  {
   "cell_type": "code",
   "execution_count": 3,
   "metadata": {},
   "outputs": [
    {
     "data": {
      "text/plain": [
       "548"
      ]
     },
     "execution_count": 3,
     "metadata": {},
     "output_type": "execute_result"
    }
   ],
   "source": [
    "import json\n",
    "\n",
    "with open('users.json', 'r') as infile:\n",
    "    users = [json.loads(line) for line in infile.readlines()]\n",
    "user_df = pd.DataFrame(users)\n",
    "len(user_df)"
   ]
  },
  {
   "cell_type": "code",
   "execution_count": 4,
   "metadata": {},
   "outputs": [
    {
     "data": {
      "text/html": [
       "<div>\n",
       "<style scoped>\n",
       "    .dataframe tbody tr th:only-of-type {\n",
       "        vertical-align: middle;\n",
       "    }\n",
       "\n",
       "    .dataframe tbody tr th {\n",
       "        vertical-align: top;\n",
       "    }\n",
       "\n",
       "    .dataframe thead th {\n",
       "        text-align: right;\n",
       "    }\n",
       "</style>\n",
       "<table border=\"1\" class=\"dataframe\">\n",
       "  <thead>\n",
       "    <tr style=\"text-align: right;\">\n",
       "      <th></th>\n",
       "      <th>screen_name</th>\n",
       "      <th>followers_count</th>\n",
       "    </tr>\n",
       "  </thead>\n",
       "  <tbody>\n",
       "    <tr>\n",
       "      <th>150</th>\n",
       "      <td>realDonaldTrump</td>\n",
       "      <td>31712585</td>\n",
       "    </tr>\n",
       "    <tr>\n",
       "      <th>147</th>\n",
       "      <td>POTUS</td>\n",
       "      <td>18545354</td>\n",
       "    </tr>\n",
       "    <tr>\n",
       "      <th>509</th>\n",
       "      <td>SenSanders</td>\n",
       "      <td>5072538</td>\n",
       "    </tr>\n",
       "    <tr>\n",
       "      <th>31</th>\n",
       "      <td>CoryBooker</td>\n",
       "      <td>3094413</td>\n",
       "    </tr>\n",
       "    <tr>\n",
       "      <th>118</th>\n",
       "      <td>marcorubio</td>\n",
       "      <td>2554822</td>\n",
       "    </tr>\n",
       "    <tr>\n",
       "      <th>520</th>\n",
       "      <td>SenWarren</td>\n",
       "      <td>2412087</td>\n",
       "    </tr>\n",
       "    <tr>\n",
       "      <th>501</th>\n",
       "      <td>SenJohnMcCain</td>\n",
       "      <td>2274034</td>\n",
       "    </tr>\n",
       "    <tr>\n",
       "      <th>131</th>\n",
       "      <td>NancyPelosi</td>\n",
       "      <td>1126205</td>\n",
       "    </tr>\n",
       "    <tr>\n",
       "      <th>90</th>\n",
       "      <td>JerryBrownGov</td>\n",
       "      <td>1119275</td>\n",
       "    </tr>\n",
       "    <tr>\n",
       "      <th>515</th>\n",
       "      <td>SenTedCruz</td>\n",
       "      <td>960413</td>\n",
       "    </tr>\n",
       "  </tbody>\n",
       "</table>\n",
       "</div>"
      ],
      "text/plain": [
       "         screen_name  followers_count\n",
       "150  realDonaldTrump         31712585\n",
       "147            POTUS         18545354\n",
       "509       SenSanders          5072538\n",
       "31        CoryBooker          3094413\n",
       "118       marcorubio          2554822\n",
       "520        SenWarren          2412087\n",
       "501    SenJohnMcCain          2274034\n",
       "131      NancyPelosi          1126205\n",
       "90     JerryBrownGov          1119275\n",
       "515       SenTedCruz           960413"
      ]
     },
     "execution_count": 4,
     "metadata": {},
     "output_type": "execute_result"
    }
   ],
   "source": [
    "user_df.sort_values(by='followers_count', ascending=False)[['screen_name', 'followers_count']].head(10)"
   ]
  },
  {
   "cell_type": "code",
   "execution_count": 5,
   "metadata": {},
   "outputs": [
    {
     "name": "stdout",
     "output_type": "stream",
     "text": [
      "{\n",
      "    \"contributors\": null,\n",
      "    \"coordinates\": null,\n",
      "    \"created_at\": 1217870931,\n",
      "    \"display_text_range\": [\n",
      "        0,\n",
      "        74\n",
      "    ],\n",
      "    \"entities\": {\n",
      "        \"hashtags\": [],\n",
      "        \"symbols\": [],\n",
      "        \"urls\": [],\n",
      "        \"user_mentions\": []\n",
      "    },\n",
      "    \"favorite_count\": 0,\n",
      "    \"favorited\": false,\n",
      "    \"geo\": null,\n",
      "    \"id\": 877418565,\n",
      "    \"id_str\": \"877418565\",\n",
      "    \"in_reply_to_screen_name\": null,\n",
      "    \"in_reply_to_status_id\": null,\n",
      "    \"in_reply_to_status_id_str\": null,\n",
      "    \"in_reply_to_user_id\": null,\n",
      "    \"in_reply_to_user_id_str\": null,\n",
      "    \"is_quote_status\": false,\n",
      "    \"lang\": \"en\",\n",
      "    \"place\": null,\n",
      "    \"retweet_count\": 0,\n",
      "    \"retweeted\": false,\n",
      "    \"screen_name\": \"JohnBoozman\",\n",
      "    \"source\": \"<a href=\\\"http://twitter.com\\\" rel=\\\"nofollow\\\">Twitter Web Client</a>\",\n",
      "    \"text\": \"On a conference call about a weekend trip to Iraq to visit Arkansas troops\",\n",
      "    \"truncated\": false,\n",
      "    \"user_id\": 5558312\n",
      "}\n"
     ]
    }
   ],
   "source": [
    "!head -n 1 tweets.json | python -m json.tool"
   ]
  },
  {
   "cell_type": "markdown",
   "metadata": {},
   "source": [
    "Documentation for keys in the tweet data is provided by Twitter. [See here.](https://developer.twitter.com/en/docs/twitter-api/v1/data-dictionary/object-model/tweet) It looks like we only care about the actual tweet text (`text`), the screen name of the tweeting user (`screen_name`), and the number of likes (`favorite_count`)."
   ]
  },
  {
   "cell_type": "code",
   "execution_count": 6,
   "metadata": {},
   "outputs": [
    {
     "data": {
      "text/plain": [
       "1243370"
      ]
     },
     "execution_count": 6,
     "metadata": {},
     "output_type": "execute_result"
    }
   ],
   "source": [
    "with open('tweets.json', 'r') as infile:\n",
    "    tweets = []\n",
    "    for line in infile:\n",
    "        tweet = json.loads(line)\n",
    "        tweet = {\n",
    "            'screen_name': tweet['screen_name'],\n",
    "            'favorite_count': tweet['favorite_count'],\n",
    "            'text': tweet['text'],\n",
    "        }\n",
    "        tweets.append(tweet)\n",
    "tweet_df = pd.DataFrame(tweets)\n",
    "len(tweet_df)"
   ]
  },
  {
   "cell_type": "code",
   "execution_count": 7,
   "metadata": {},
   "outputs": [
    {
     "data": {
      "text/plain": [
       "RepDonBeyer        3258\n",
       "SenatorDurbin      3252\n",
       "GovMattBevin       3250\n",
       "MassGovernor       3250\n",
       "SenRonJohnson      3249\n",
       "GrahamBlog         3249\n",
       "SenTomCotton       3249\n",
       "onetoughnerd       3249\n",
       "RepScottPeters     3248\n",
       "GovMalloyOffice    3247\n",
       "Name: screen_name, dtype: int64"
      ]
     },
     "execution_count": 7,
     "metadata": {},
     "output_type": "execute_result"
    }
   ],
   "source": [
    "counts = tweet_df.screen_name.value_counts()\n",
    "counts.head(10)"
   ]
  },
  {
   "cell_type": "code",
   "execution_count": 8,
   "metadata": {},
   "outputs": [
    {
     "data": {
      "image/png": "[encoded data removed]",
      "text/plain": [
       "<Figure size 600x400 with 1 Axes>"
      ]
     },
     "metadata": {
      "needs_background": "light"
     },
     "output_type": "display_data"
    }
   ],
   "source": [
    "plt.hist(counts, bins=100)\n",
    "plt.title(f\"Distribution of {len(counts)} US politician's total tweets in our data\")\n",
    "plt.xlabel(\"Total tweets\")\n",
    "plt.ylabel(\"Number of politicians\")\n",
    "plt.annotate(f'{sum(counts >= 3200) / len(counts):.1%} of politicians have 3200+ tweets', (3200, 100), xytext=(2500, 100), arrowprops={'arrowstyle': 'simple'}, va='center', ha='right')\n",
    "plt.show()"
   ]
  },
  {
   "cell_type": "code",
   "execution_count": 9,
   "metadata": {},
   "outputs": [],
   "source": [
    "def simple_tokenize(tweet_text):\n",
    "    tokens = tweet_text.split()\n",
    "    return tokens\n",
    "    \n",
    "tweet_df['tokens'] = tweet_df.text.map(simple_tokenize)"
   ]
  },
  {
   "cell_type": "code",
   "execution_count": 10,
   "metadata": {},
   "outputs": [
    {
     "data": {
      "text/plain": [
       "42"
      ]
     },
     "execution_count": 10,
     "metadata": {},
     "output_type": "execute_result"
    }
   ],
   "source": [
    "tweet_df['token_count'] = tweet_df.tokens.map(len)\n",
    "tweet_df.token_count.max()"
   ]
  },
  {
   "cell_type": "code",
   "execution_count": 11,
   "metadata": {},
   "outputs": [
    {
     "data": {
      "image/png": "[encoded data removed]",
      "text/plain": [
       "<Figure size 600x400 with 1 Axes>"
      ]
     },
     "metadata": {
      "needs_background": "light"
     },
     "output_type": "display_data"
    }
   ],
   "source": [
    "plt.hist(tweet_df.token_count, bins=range(0, tweet_df.token_count.max() + 1))\n",
    "plt.title(\"Distribution of tokens per tweet\")\n",
    "plt.xlabel(\"Number of tokens\")\n",
    "plt.ylabel(\"Number of tweets\")\n",
    "mean_token_count = tweet_df.token_count.mean()\n",
    "plt.axvline(mean_token_count, color='black', label=f'Mean tokens = {mean_token_count:.1f}')\n",
    "plt.legend()\n",
    "plt.show()"
   ]
  },
  {
   "cell_type": "code",
   "execution_count": 12,
   "metadata": {},
   "outputs": [
    {
     "data": {
      "text/plain": [
       "'.@SciCmteDems @MichaelEMann @RepBonamici @capitalweather @HouseScience @BadAstronomer @NaomiOreskes @ClimateFdbk @VariabilityBlog @RasmusBenestad @TimOsbornClim @AGW_Prof @CubaRaglanGuy @DeformedEarth @epispheric @mzelinka @hausfath @ChrisJMerchant @LovejoyShaun @PeterGleick And I want to invite anyone who wants to help defend science to fact-check future @HouseScience hearings at the hashtag #FactCheckSST 13/13'"
      ]
     },
     "execution_count": 12,
     "metadata": {},
     "output_type": "execute_result"
    }
   ],
   "source": [
    "tweet_df[tweet_df.token_count == tweet_df.token_count.max()].text.iloc[0]"
   ]
  },
  {
   "cell_type": "markdown",
   "metadata": {},
   "source": [
    "Maybe this is making us reconsider our tokenization strategy.  "
   ]
  },
  {
   "cell_type": "code",
   "execution_count": 13,
   "metadata": {},
   "outputs": [
    {
     "data": {
      "text/plain": [
       "38"
      ]
     },
     "execution_count": 13,
     "metadata": {},
     "output_type": "execute_result"
    }
   ],
   "source": [
    "def better_tokenize(tweet_text):\n",
    "    tokens = tweet_text.split()\n",
    "    tokens = [token for token in tokens if not token.startswith('@')]\n",
    "    return tokens\n",
    "    \n",
    "tweet_df['tokens'] = tweet_df.text.map(better_tokenize)\n",
    "tweet_df['token_count'] = tweet_df.tokens.map(len)\n",
    "tweet_df.token_count.max()"
   ]
  },
  {
   "cell_type": "markdown",
   "metadata": {},
   "source": [
    "Here are the longest tweets with the new tokenization strategy."
   ]
  },
  {
   "cell_type": "code",
   "execution_count": 14,
   "metadata": {},
   "outputs": [
    {
     "name": "stdout",
     "output_type": "stream",
     "text": [
      "repgregwalden: .-- .. .-.. .-.. / -.-. .... .- .. .-. / -.-. --- -- -- / .- -. -.. / - . -.-. .... / ... ..- -... / --... ...-- ... / .-- --... . --.- ..\n",
      "JohnKasich: More work to do &amp; we must work hard to stay on track– but we should be proud of our progress &amp; msg sent to the world: OH is the place to be. https://t.co/8Ig1abF4Ka\n",
      "Jim_Jordan: All the talk of a three to four year phase out is not what we told the voters we would do - I will work to repeal it all as fast as we can\n",
      "NYGovCuomo: As a New Yorker, I am a Muslim. I am a Jew. I am Black. I am gay. I am a woman seeking to control her body. We are one New York​. https://t.co/peOL9x2ltl\n",
      "GOPLeader: Always great when you get to work with your friends - we have a lot to do for the public this year, but this is a great team to get it done! https://t.co/Cc8Tcdu1qc\n"
     ]
    }
   ],
   "source": [
    "# here are the longest tweets with the\n",
    "for row in tweet_df.sort_values(by='token_count', ascending=False).head(5).itertuples():\n",
    "    print(f\"{row.screen_name}: {row.text}\")"
   ]
  },
  {
   "cell_type": "code",
   "execution_count": 15,
   "metadata": {},
   "outputs": [
    {
     "data": {
      "image/png": "[encoded data removed]",
      "text/plain": [
       "<Figure size 600x400 with 1 Axes>"
      ]
     },
     "metadata": {
      "needs_background": "light"
     },
     "output_type": "display_data"
    }
   ],
   "source": [
    "plt.hist(tweet_df.token_count, bins=range(0, tweet_df.token_count.max() + 1))\n",
    "plt.title(\"Distribution of tokens per tweet\")\n",
    "plt.xlabel(\"Number of tokens\")\n",
    "plt.ylabel(\"Number of tweets\")\n",
    "mean_token_count = tweet_df.token_count.mean()\n",
    "plt.axvline(mean_token_count, color='black', label=f'Mean tokens = {mean_token_count:.1f}')\n",
    "plt.legend()\n",
    "plt.show()"
   ]
  },
  {
   "cell_type": "code",
   "execution_count": 16,
   "metadata": {},
   "outputs": [
    {
     "data": {
      "text/plain": [
       "[('to', 770832),\n",
       " ('the', 666572),\n",
       " ('of', 364526),\n",
       " ('in', 339118),\n",
       " ('for', 329010),\n",
       " ('RT', 266336),\n",
       " ('a', 258980),\n",
       " ('on', 249595),\n",
       " ('and', 243654),\n",
       " ('&amp;', 216680)]"
      ]
     },
     "execution_count": 16,
     "metadata": {},
     "output_type": "execute_result"
    }
   ],
   "source": [
    "from collections import Counter\n",
    "\n",
    "token_counter = Counter()\n",
    "for tokens in tweet_df.tokens:\n",
    "    token_counter.update(tokens)\n",
    "token_counter.most_common(10)"
   ]
  },
  {
   "cell_type": "markdown",
   "metadata": {},
   "source": [
    "### Zipf's Law\n",
    "\n",
    "Word (or token) usage follows a predictable distribution.\n",
    "\n",
    "If 'to' is the most common word and appears at frequency $f_{\\text{max}}$, then the frequency of the second most common word is approximately $f = \\frac{1}{2} f_{\\text{max}}$, the frequency of the third most common word is approximately $f = \\frac{1}{3} f_{\\text{max}}$, etc.\n",
    "\n",
    "In general terms, the $k$th most common word appears with frequency $f = \\frac{1}{k} f_{\\text{max}}$."
   ]
  },
  {
   "cell_type": "code",
   "execution_count": 17,
   "metadata": {},
   "outputs": [
    {
     "data": {
      "image/png": "[encoded data removed]",
      "text/plain": [
       "<Figure size 600x400 with 1 Axes>"
      ]
     },
     "metadata": {
      "needs_background": "light"
     },
     "output_type": "display_data"
    }
   ],
   "source": [
    "# plot word rank vs word count\n",
    "token_counts = np.array([count for token, count in token_counter.most_common()])\n",
    "plt.loglog(range(1, len(token_counts)+1), token_counts)\n",
    "\n",
    "# compute and plot the counts if the true distribution was Zipfian\n",
    "largest_count = token_counts[0]\n",
    "true_zipf = [(1, largest_count)]\n",
    "for i in np.geomspace(1, len(token_counts), endpoint=True, num=25):\n",
    "    rank = int(i) + 1\n",
    "    true_zipf.append((rank, largest_count * 1/rank))\n",
    "xs, ys = zip(*true_zipf)\n",
    "plt.plot(xs, ys, color='gray', linestyle='-', alpha=0.5)\n",
    "plt.xlabel(\"Frequency rank of token\")\n",
    "plt.ylabel(\"Absolute frequency of token\")\n",
    "plt.title(f\"Zipf plot for {len(token_counts):,} unique tokens\")\n",
    "# annotate the hapax legomena \n",
    "plt.annotate(f\"{sum(token_counts == 1) / len(token_counts):.1%} of tokens appear exactly once\",\n",
    "             xy=(len(token_counts) * 0.2, 1), xytext=(10**4.5, 1), arrowprops={'arrowstyle': 'simple'}, va='center', ha='right')\n",
    "plt.show()"
   ]
  },
  {
   "cell_type": "markdown",
   "metadata": {},
   "source": [
    "We call tokens that appear exactly once [_hapax legomena_](https://en.wikipedia.org/wiki/Hapax_legomenon) or sometimes just _hapaxes_.\n",
    "\n",
    "80% is higher than we would expect for more general English text: we would see that number drop if we did further normalization (e.g. so we don't count 'country.'/'country', '#Thanksgiving'/'Thanksgiving', or 'Great'/'great' as different tokens). "
   ]
  },
  {
   "cell_type": "code",
   "execution_count": 18,
   "metadata": {},
   "outputs": [
    {
     "data": {
      "image/png": "[encoded data removed]",
      "text/plain": [
       "<Figure size 600x400 with 1 Axes>"
      ]
     },
     "metadata": {
      "needs_background": "light"
     },
     "output_type": "display_data"
    }
   ],
   "source": [
    "# how large will our vocabulary be at different absolute token frequency cut-offs?\n",
    "xs = []\n",
    "ys =[]\n",
    "for i in range(2, 10):\n",
    "    xs.append(i)\n",
    "    ys.append(np.sum(token_counts >= i))\n",
    "    \n",
    "plt.plot(xs, ys)\n",
    "plt.show()"
   ]
  },
  {
   "cell_type": "markdown",
   "metadata": {},
   "source": [
    "Note: vocabulary size is an empirical question, and should be chosen based on desired purpose. If the goal is to maximize predictive model performance, than vocab size should be treated as a hyperparameter during model selection.\n",
    "\n",
    "We'll set our vocab size to 30,000, which is a reasonable and fairly common value."
   ]
  },
  {
   "cell_type": "code",
   "execution_count": 19,
   "metadata": {},
   "outputs": [],
   "source": [
    "V = 30000\n",
    "token_index_map = {}\n",
    "index = 0\n",
    "for token, count in token_counter.most_common(V):\n",
    "    token_index_map[token] = index\n",
    "    index += 1"
   ]
  },
  {
   "cell_type": "code",
   "execution_count": 20,
   "metadata": {},
   "outputs": [],
   "source": [
    "# to check our work, we need to map back from indices to the actual token text\n",
    "index_token_map = {index: token for token, index in token_index_map.items()}"
   ]
  },
  {
   "cell_type": "code",
   "execution_count": 21,
   "metadata": {},
   "outputs": [
    {
     "data": {
      "text/plain": [
       "2477"
      ]
     },
     "execution_count": 21,
     "metadata": {},
     "output_type": "execute_result"
    }
   ],
   "source": [
    "token_index_map['Iraq']"
   ]
  },
  {
   "cell_type": "code",
   "execution_count": 22,
   "metadata": {},
   "outputs": [
    {
     "data": {
      "text/plain": [
       "'Iraq'"
      ]
     },
     "execution_count": 22,
     "metadata": {},
     "output_type": "execute_result"
    }
   ],
   "source": [
    "index_token_map[2477]"
   ]
  },
  {
   "cell_type": "code",
   "execution_count": 23,
   "metadata": {},
   "outputs": [
    {
     "data": {
      "text/plain": [
       "'“They'"
      ]
     },
     "execution_count": 23,
     "metadata": {},
     "output_type": "execute_result"
    }
   ],
   "source": [
    "# the very last word in our vocabulary\n",
    "index_token_map[29999]"
   ]
  },
  {
   "cell_type": "markdown",
   "metadata": {},
   "source": [
    "Building the [document-term matrix](https://en.wikipedia.org/wiki/Document-term_matrix). (\"Term\" just means \"token\".)"
   ]
  },
  {
   "cell_type": "code",
   "execution_count": 24,
   "metadata": {},
   "outputs": [],
   "source": [
    "from tqdm import tqdm"
   ]
  },
  {
   "cell_type": "code",
   "execution_count": 25,
   "metadata": {},
   "outputs": [
    {
     "name": "stderr",
     "output_type": "stream",
     "text": [
      "100%|██████████| 1243370/1243370 [01:56<00:00, 10642.73it/s]\n"
     ]
    },
    {
     "data": {
      "text/plain": [
       "(1243370, 30001)"
      ]
     },
     "execution_count": 25,
     "metadata": {},
     "output_type": "execute_result"
    }
   ],
   "source": [
    "X = np.zeros((len(tweet_df), V + 1), dtype='int8')\n",
    "for row_ind, tokens in tqdm(enumerate(tweet_df.tokens), total=len(tweet_df)):\n",
    "    for token in tokens:\n",
    "        if token not in token_index_map:\n",
    "            # this is a word not in the vocabulary!\n",
    "            continue\n",
    "        column_ind = token_index_map[token]\n",
    "        X[row_ind, column_ind] += 1\n",
    "    # the intercept column is always 1\n",
    "    X[row_ind, V] = 1\n",
    "X.shape"
   ]
  },
  {
   "cell_type": "code",
   "execution_count": 26,
   "metadata": {},
   "outputs": [
    {
     "name": "stdout",
     "output_type": "stream",
     "text": [
      "On a conference call about a weekend trip to Iraq to visit Arkansas troops\n",
      "\n",
      "ind=     0  n= 2  token= to\n",
      "ind=     6  n= 2  token= a\n",
      "ind=    24  n= 1  token= about\n",
      "ind=   128  n= 1  token= On\n",
      "ind=   165  n= 1  token= visit\n",
      "ind=   225  n= 1  token= call\n",
      "ind=   610  n= 1  token= conference\n",
      "ind=   917  n= 1  token= troops\n",
      "ind=   976  n= 1  token= weekend\n",
      "ind=  1107  n= 1  token= trip\n",
      "ind=  1901  n= 1  token= Arkansas\n",
      "ind=  2477  n= 1  token= Iraq\n",
      "ind= 30000  n= 1  intercept\n"
     ]
    }
   ],
   "source": [
    "row_ind = 0\n",
    "print(tweet_df.iloc[row_ind].text + \"\\n\")\n",
    "\n",
    "for column_ind in np.argwhere(X[row_ind,:]).ravel():\n",
    "    if column_ind == V:\n",
    "        print(f\"ind= {column_ind:>5}  n= {X[row_ind,column_ind]:.0f}  intercept\")\n",
    "    else:\n",
    "        token = index_token_map[column_ind]\n",
    "        print(f\"ind= {column_ind:>5}  n= {X[row_ind,column_ind]:.0f}  token= {token}\")\n"
   ]
  },
  {
   "cell_type": "code",
   "execution_count": 27,
   "metadata": {},
   "outputs": [
    {
     "data": {
      "text/plain": [
       "(1243370,)"
      ]
     },
     "execution_count": 27,
     "metadata": {},
     "output_type": "execute_result"
    }
   ],
   "source": [
    "y = np.array(tweet_df.favorite_count, dtype='int32')\n",
    "y.shape"
   ]
  },
  {
   "cell_type": "code",
   "execution_count": 28,
   "metadata": {},
   "outputs": [
    {
     "data": {
      "text/plain": [
       "(1243370, 30001)"
      ]
     },
     "execution_count": 28,
     "metadata": {},
     "output_type": "execute_result"
    }
   ],
   "source": [
    "X.shape"
   ]
  },
  {
   "cell_type": "code",
   "execution_count": 29,
   "metadata": {},
   "outputs": [
    {
     "data": {
      "text/plain": [
       "((10000,), (1233370,))"
      ]
     },
     "execution_count": 29,
     "metadata": {},
     "output_type": "execute_result"
    }
   ],
   "source": [
    "random_inds = np.random.permutation(np.arange(len(X)))\n",
    "n_train = 10000\n",
    "train_inds = random_inds[:n_train]\n",
    "test_inds = random_inds[n_train:]\n",
    "train_inds.shape, test_inds.shape"
   ]
  },
  {
   "cell_type": "code",
   "execution_count": 32,
   "metadata": {},
   "outputs": [
    {
     "data": {
      "text/plain": [
       "37302343370"
      ]
     },
     "execution_count": 32,
     "metadata": {},
     "output_type": "execute_result"
    }
   ],
   "source": [
    "X.nbytes"
   ]
  },
  {
   "cell_type": "code",
   "execution_count": 33,
   "metadata": {},
   "outputs": [
    {
     "data": {
      "text/plain": [
       "(10000, 30001)"
      ]
     },
     "execution_count": 33,
     "metadata": {},
     "output_type": "execute_result"
    }
   ],
   "source": [
    "X_train = X[train_inds]\n",
    "X_train.shape"
   ]
  },
  {
   "cell_type": "code",
   "execution_count": null,
   "metadata": {},
   "outputs": [],
   "source": [
    "A = np.matmul(X_train.T, X_train)\n",
    "A.shape"
   ]
  },
  {
   "cell_type": "code",
   "execution_count": null,
   "metadata": {},
   "outputs": [],
   "source": [
    "A_inv = np.linalg.inv(A)"
   ]
  },
  {
   "cell_type": "code",
   "execution_count": null,
   "metadata": {},
   "outputs": [],
   "source": [
    "y_train = y_train[train_inds]"
   ]
  },
  {
   "cell_type": "code",
   "execution_count": null,
   "metadata": {},
   "outputs": [],
   "source": [
    "w = np.linalg.inv(A).dot(X_train.T).dot(y_train)\n",
    "w.shape"
   ]
  },
  {
   "cell_type": "code",
   "execution_count": null,
   "metadata": {},
   "outputs": [],
   "source": []
  }
 ],
 "metadata": {
  "kernelspec": {
   "display_name": "Python 3",
   "language": "python",
   "name": "python3"
  },
  "language_info": {
   "codemirror_mode": {
    "name": "ipython",
    "version": 3
   },
   "file_extension": ".py",
   "mimetype": "text/x-python",
   "name": "python",
   "nbconvert_exporter": "python",
   "pygments_lexer": "ipython3",
   "version": "3.8.3"
  }
 },
 "nbformat": 4,
 "nbformat_minor": 4
}
