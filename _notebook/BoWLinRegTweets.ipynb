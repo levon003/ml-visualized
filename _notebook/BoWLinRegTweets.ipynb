{
 "cells": [
  {
   "cell_type": "markdown",
   "metadata": {},
   "source": [
    "# Basics of machine learning with text data: bag-of-words for linear regression\n",
    "\n"
   ]
  },
  {
   "cell_type": "markdown",
   "metadata": {},
   "source": [
    "The `wget` command below should work on Linux or Mac OS (if wget is installed). Otherwise, just download the data and run the notebook from wherever you downloaded the data to."
   ]
  },
  {
   "cell_type": "code",
   "execution_count": 2,
   "metadata": {},
   "outputs": [
    {
     "name": "stdout",
     "output_type": "stream",
     "text": [
      "--2021-10-23 22:52:00--  https://files.pushshift.io/twitter/US_PoliticalTweets.tar.gz\n",
      "Resolving files.pushshift.io (files.pushshift.io)... 104.21.55.251, 172.67.174.211, 2606:4700:3032::ac43:aed3, ...\n",
      "Connecting to files.pushshift.io (files.pushshift.io)|104.21.55.251|:443... connected.\n",
      "WARNING: cannot verify files.pushshift.io's certificate, issued by ‘CN=Cloudflare Inc ECC CA-3,O=Cloudflare\\\\, Inc.,C=US’:\n",
      "  Unable to locally verify the issuer's authority.\n",
      "HTTP request sent, awaiting response... 200 OK\n",
      "Length: 240797053 (230M) [application/octet-stream]\n",
      "Saving to: ‘STDOUT’\n",
      "\n",
      "-                   100%[===================>] 229.64M  13.1MB/s    in 18s     \n",
      "\n",
      "2021-10-23 22:52:18 (13.0 MB/s) - written to stdout [240797053/240797053]\n",
      "\n"
     ]
    }
   ],
   "source": [
    "# this should work on Mac (if wget is installed) or Unix\n",
    "!wget -O - --no-check-certificate https://files.pushshift.io/twitter/US_PoliticalTweets.tar.gz | tar -xz"
   ]
  },
  {
   "cell_type": "code",
   "execution_count": 1,
   "metadata": {},
   "outputs": [
    {
     "name": "stdout",
     "output_type": "stream",
     "text": [
      "1.6G\ttweets.json\n",
      "916K\tusers.json\n"
     ]
    }
   ],
   "source": [
    "!du -h *.json"
   ]
  },
  {
   "cell_type": "code",
   "execution_count": 2,
   "metadata": {},
   "outputs": [],
   "source": [
    "# numpy and pandas for data-wrangling\n",
    "import numpy as np\n",
    "import pandas as pd\n",
    "# matplotlib for plotting\n",
    "import matplotlib.pyplot as plt\n",
    "import matplotlib\n",
    "matplotlib.rcParams['figure.dpi'] = 100"
   ]
  },
  {
   "cell_type": "code",
   "execution_count": 3,
   "metadata": {},
   "outputs": [
    {
     "data": {
      "text/plain": [
       "548"
      ]
     },
     "execution_count": 3,
     "metadata": {},
     "output_type": "execute_result"
    }
   ],
   "source": [
    "import json\n",
    "with open('users.json', 'r') as infile:\n",
    "    users = [json.loads(line) for line in infile.readlines()]\n",
    "user_df = pd.DataFrame(users)\n",
    "len(user_df)"
   ]
  },
  {
   "cell_type": "code",
   "execution_count": 4,
   "metadata": {},
   "outputs": [
    {
     "data": {
      "text/html": [
       "<div>\n",
       "<style scoped>\n",
       "    .dataframe tbody tr th:only-of-type {\n",
       "        vertical-align: middle;\n",
       "    }\n",
       "\n",
       "    .dataframe tbody tr th {\n",
       "        vertical-align: top;\n",
       "    }\n",
       "\n",
       "    .dataframe thead th {\n",
       "        text-align: right;\n",
       "    }\n",
       "</style>\n",
       "<table border=\"1\" class=\"dataframe\">\n",
       "  <thead>\n",
       "    <tr style=\"text-align: right;\">\n",
       "      <th></th>\n",
       "      <th>screen_name</th>\n",
       "      <th>followers_count</th>\n",
       "    </tr>\n",
       "  </thead>\n",
       "  <tbody>\n",
       "    <tr>\n",
       "      <th>150</th>\n",
       "      <td>realDonaldTrump</td>\n",
       "      <td>31712585</td>\n",
       "    </tr>\n",
       "    <tr>\n",
       "      <th>147</th>\n",
       "      <td>POTUS</td>\n",
       "      <td>18545354</td>\n",
       "    </tr>\n",
       "    <tr>\n",
       "      <th>509</th>\n",
       "      <td>SenSanders</td>\n",
       "      <td>5072538</td>\n",
       "    </tr>\n",
       "    <tr>\n",
       "      <th>31</th>\n",
       "      <td>CoryBooker</td>\n",
       "      <td>3094413</td>\n",
       "    </tr>\n",
       "    <tr>\n",
       "      <th>118</th>\n",
       "      <td>marcorubio</td>\n",
       "      <td>2554822</td>\n",
       "    </tr>\n",
       "    <tr>\n",
       "      <th>520</th>\n",
       "      <td>SenWarren</td>\n",
       "      <td>2412087</td>\n",
       "    </tr>\n",
       "    <tr>\n",
       "      <th>501</th>\n",
       "      <td>SenJohnMcCain</td>\n",
       "      <td>2274034</td>\n",
       "    </tr>\n",
       "    <tr>\n",
       "      <th>131</th>\n",
       "      <td>NancyPelosi</td>\n",
       "      <td>1126205</td>\n",
       "    </tr>\n",
       "    <tr>\n",
       "      <th>90</th>\n",
       "      <td>JerryBrownGov</td>\n",
       "      <td>1119275</td>\n",
       "    </tr>\n",
       "    <tr>\n",
       "      <th>515</th>\n",
       "      <td>SenTedCruz</td>\n",
       "      <td>960413</td>\n",
       "    </tr>\n",
       "  </tbody>\n",
       "</table>\n",
       "</div>"
      ],
      "text/plain": [
       "         screen_name  followers_count\n",
       "150  realDonaldTrump         31712585\n",
       "147            POTUS         18545354\n",
       "509       SenSanders          5072538\n",
       "31        CoryBooker          3094413\n",
       "118       marcorubio          2554822\n",
       "520        SenWarren          2412087\n",
       "501    SenJohnMcCain          2274034\n",
       "131      NancyPelosi          1126205\n",
       "90     JerryBrownGov          1119275\n",
       "515       SenTedCruz           960413"
      ]
     },
     "execution_count": 4,
     "metadata": {},
     "output_type": "execute_result"
    }
   ],
   "source": [
    "user_df.sort_values(by='followers_count', ascending=False)[['screen_name', 'followers_count']].head(10)"
   ]
  },
  {
   "cell_type": "code",
   "execution_count": 5,
   "metadata": {},
   "outputs": [
    {
     "name": "stdout",
     "output_type": "stream",
     "text": [
      "{\n",
      "    \"contributors\": null,\n",
      "    \"coordinates\": null,\n",
      "    \"created_at\": 1217870931,\n",
      "    \"display_text_range\": [\n",
      "        0,\n",
      "        74\n",
      "    ],\n",
      "    \"entities\": {\n",
      "        \"hashtags\": [],\n",
      "        \"symbols\": [],\n",
      "        \"urls\": [],\n",
      "        \"user_mentions\": []\n",
      "    },\n",
      "    \"favorite_count\": 0,\n",
      "    \"favorited\": false,\n",
      "    \"geo\": null,\n",
      "    \"id\": 877418565,\n",
      "    \"id_str\": \"877418565\",\n",
      "    \"in_reply_to_screen_name\": null,\n",
      "    \"in_reply_to_status_id\": null,\n",
      "    \"in_reply_to_status_id_str\": null,\n",
      "    \"in_reply_to_user_id\": null,\n",
      "    \"in_reply_to_user_id_str\": null,\n",
      "    \"is_quote_status\": false,\n",
      "    \"lang\": \"en\",\n",
      "    \"place\": null,\n",
      "    \"retweet_count\": 0,\n",
      "    \"retweeted\": false,\n",
      "    \"screen_name\": \"JohnBoozman\",\n",
      "    \"source\": \"<a href=\\\"http://twitter.com\\\" rel=\\\"nofollow\\\">Twitter Web Client</a>\",\n",
      "    \"text\": \"On a conference call about a weekend trip to Iraq to visit Arkansas troops\",\n",
      "    \"truncated\": false,\n",
      "    \"user_id\": 5558312\n",
      "}\n"
     ]
    }
   ],
   "source": [
    "!head -n 1 tweets.json | python -m json.tool"
   ]
  },
  {
   "cell_type": "markdown",
   "metadata": {},
   "source": [
    "Documentation for keys in the tweet data is provided by Twitter. [See here.](https://developer.twitter.com/en/docs/twitter-api/v1/data-dictionary/object-model/tweet) It looks like we only care about the actual tweet text (`text`), the screen name of the tweeting user (`screen_name`), and the number of likes (`favorite_count`)."
   ]
  },
  {
   "cell_type": "code",
   "execution_count": 6,
   "metadata": {},
   "outputs": [
    {
     "data": {
      "text/plain": [
       "1243370"
      ]
     },
     "execution_count": 6,
     "metadata": {},
     "output_type": "execute_result"
    }
   ],
   "source": [
    "with open('tweets.json', 'r') as infile:\n",
    "    tweets = []\n",
    "    for line in infile:\n",
    "        tweet = json.loads(line)\n",
    "        tweet = {\n",
    "            'screen_name': tweet['screen_name'],\n",
    "            'favorite_count': tweet['favorite_count'],\n",
    "            'text': tweet['text'],\n",
    "        }\n",
    "        tweets.append(tweet)\n",
    "tweet_df = pd.DataFrame(tweets)\n",
    "len(tweet_df)"
   ]
  },
  {
   "cell_type": "code",
   "execution_count": 7,
   "metadata": {},
   "outputs": [
    {
     "data": {
      "text/plain": [
       "RepDonBeyer        3258\n",
       "SenatorDurbin      3252\n",
       "MassGovernor       3250\n",
       "GovMattBevin       3250\n",
       "GrahamBlog         3249\n",
       "SenRonJohnson      3249\n",
       "SenTomCotton       3249\n",
       "onetoughnerd       3249\n",
       "RepScottPeters     3248\n",
       "GovMalloyOffice    3247\n",
       "Name: screen_name, dtype: int64"
      ]
     },
     "execution_count": 7,
     "metadata": {},
     "output_type": "execute_result"
    }
   ],
   "source": [
    "counts = tweet_df.screen_name.value_counts()\n",
    "counts.head(10)"
   ]
  },
  {
   "cell_type": "code",
   "execution_count": 8,
   "metadata": {},
   "outputs": [
    {
     "data": {
      "image/png": "[encoded data removed]",
      "text/plain": [
       "<Figure size 600x400 with 1 Axes>"
      ]
     },
     "metadata": {
      "needs_background": "light"
     },
     "output_type": "display_data"
    }
   ],
   "source": [
    "plt.hist(counts, bins=100)\n",
    "plt.title(f\"Distribution of {len(counts)} US politician's total tweets in our data\")\n",
    "plt.xlabel(\"Total tweets\")\n",
    "plt.ylabel(\"Number of politicians\")\n",
    "plt.annotate(f'{sum(counts >= 3200) / len(counts):.1%} of politicians have 3200+ tweets', (3200, 100), xytext=(2500, 100), arrowprops={'arrowstyle': 'simple'}, va='center', ha='right')\n",
    "plt.show()"
   ]
  },
  {
   "cell_type": "code",
   "execution_count": 9,
   "metadata": {},
   "outputs": [],
   "source": [
    "def simple_tokenize(tweet_text):\n",
    "    tokens = tweet_text.split()\n",
    "    return tokens\n",
    "    \n",
    "tweet_df['tokens'] = tweet_df.text.map(simple_tokenize)"
   ]
  },
  {
   "cell_type": "code",
   "execution_count": 10,
   "metadata": {},
   "outputs": [
    {
     "data": {
      "text/plain": [
       "42"
      ]
     },
     "execution_count": 10,
     "metadata": {},
     "output_type": "execute_result"
    }
   ],
   "source": [
    "tweet_df['token_count'] = tweet_df.tokens.map(len)\n",
    "tweet_df.token_count.max()"
   ]
  },
  {
   "cell_type": "code",
   "execution_count": 11,
   "metadata": {},
   "outputs": [
    {
     "data": {
      "image/png": "[encoded data removed]",
      "text/plain": [
       "<Figure size 600x400 with 1 Axes>"
      ]
     },
     "metadata": {
      "needs_background": "light"
     },
     "output_type": "display_data"
    }
   ],
   "source": [
    "plt.hist(tweet_df.token_count, bins=range(0, tweet_df.token_count.max() + 1))\n",
    "plt.title(\"Distribution of tokens per tweet\")\n",
    "plt.xlabel(\"Number of tokens\")\n",
    "plt.ylabel(\"Number of tweets\")\n",
    "mean_token_count = tweet_df.token_count.mean()\n",
    "plt.axvline(mean_token_count, color='black', label=f'Mean tokens = {mean_token_count:.1f}')\n",
    "plt.legend()\n",
    "plt.show()"
   ]
  },
  {
   "cell_type": "code",
   "execution_count": 12,
   "metadata": {},
   "outputs": [
    {
     "data": {
      "text/plain": [
       "'.@SciCmteDems @MichaelEMann @RepBonamici @capitalweather @HouseScience @BadAstronomer @NaomiOreskes @ClimateFdbk @VariabilityBlog @RasmusBenestad @TimOsbornClim @AGW_Prof @CubaRaglanGuy @DeformedEarth @epispheric @mzelinka @hausfath @ChrisJMerchant @LovejoyShaun @PeterGleick And I want to invite anyone who wants to help defend science to fact-check future @HouseScience hearings at the hashtag #FactCheckSST 13/13'"
      ]
     },
     "execution_count": 12,
     "metadata": {},
     "output_type": "execute_result"
    }
   ],
   "source": [
    "tweet_df[tweet_df.token_count == tweet_df.token_count.max()].text.iloc[0]"
   ]
  },
  {
   "cell_type": "markdown",
   "metadata": {},
   "source": [
    "Maybe this is making us reconsider our tokenization strategy.  "
   ]
  },
  {
   "cell_type": "code",
   "execution_count": 69,
   "metadata": {},
   "outputs": [
    {
     "data": {
      "text/plain": [
       "42"
      ]
     },
     "execution_count": 69,
     "metadata": {},
     "output_type": "execute_result"
    }
   ],
   "source": [
    "import re\n",
    "\n",
    "def normalize_token(token):\n",
    "    # Lowercase and remove all non-alphanumeric characters\n",
    "    return re.sub(\"[^0-9a-zA-Z]+\", \"\", token).lower()\n",
    "\n",
    "def better_tokenize(tweet_text):\n",
    "    tokens = tweet_text.split()\n",
    "    tokens_to_keep = []\n",
    "    for token in tokens:\n",
    "        if token.startswith('@'):\n",
    "            token = '@'\n",
    "        elif token.startswith('https://'):\n",
    "            token = '/link'\n",
    "        else:\n",
    "            token = normalize_token(token)\n",
    "            if token == '':\n",
    "                continue\n",
    "        tokens_to_keep.append(token)\n",
    "#    tokens = [normalize_token(token) for token in tokens if not token.startswith('@')]\n",
    "    return tokens_to_keep\n",
    "    \n",
    "tweet_df['tokens'] = tweet_df.text.map(better_tokenize)\n",
    "tweet_df['token_count'] = tweet_df.tokens.map(len)\n",
    "tweet_df.token_count.max()"
   ]
  },
  {
   "cell_type": "markdown",
   "metadata": {},
   "source": [
    "Here are the longest tweets with the new tokenization strategy."
   ]
  },
  {
   "cell_type": "code",
   "execution_count": 73,
   "metadata": {},
   "outputs": [
    {
     "name": "stdout",
     "output_type": "stream",
     "text": [
      "RepDonBeyer (42 tokens):\n",
      ".@SciCmteDems @MichaelEMann @RepBonamici @capitalweather @HouseScience @BadAstronomer @NaomiOreskes @ClimateFdbk @VariabilityBlog @RasmusBenestad @TimOsbornClim @AGW_Prof @CubaRaglanGuy @DeformedEarth @epispheric @mzelinka @hausfath @ChrisJMerchant @LovejoyShaun @PeterGleick And I want to invite anyone who wants to help defend science to fact-check future @HouseScience hearings at the hashtag #FactCheckSST 13/13\n",
      "['scicmtedems', '@', '@', '@', '@', '@', '@', '@', '@', '@', '@', '@', '@', '@', '@', '@', '@', '@', '@', '@', 'and', 'i', 'want', 'to', 'invite', 'anyone', 'who', 'wants', 'to', 'help', 'defend', 'science', 'to', 'factcheck', 'future', '@', 'hearings', 'at', 'the', 'hashtag', 'factchecksst', '1313']\n",
      "\n",
      "GovernorTomWolf (38 tokens):\n",
      ".@RepLouBarletta @CongBoyle @RepBrady @RepCartwright @RepRyanCostello @RepCharlieDent @USRepMikeDoyle @RepDwightEvans @RepFitzpatrick @MikeKellyPA @RepTomMarino @RepMeehan @RepTimMurphy @RepScottPerry @KeithRothfus @RepBillShuster @RepSmucker @CongressmanGT #VoteNoAHCA: No CBO score, no public hearings, no text of final bill for public. Too important to rush. https://t.co/TPBpwNhUal #SaveACAinPA\n",
      "['reploubarletta', '@', '@', '@', '@', '@', '@', '@', '@', '@', '@', '@', '@', '@', '@', '@', '@', '@', 'votenoahca', 'no', 'cbo', 'score', 'no', 'public', 'hearings', 'no', 'text', 'of', 'final', 'bill', 'for', 'public', 'too', 'important', 'to', 'rush', '/link', 'saveacainpa']\n",
      "\n",
      "GovernorTomWolf (36 tokens):\n",
      ".@RepLouBarletta @CongBoyle @RepBrady @RepCartwright @RepRyanCostello @RepCharlieDent @USRepMikeDoyle @RepDwightEvans @RepFitzpatrick @MikeKellyPA @RepTomMarino @RepMeehan @RepTimMurphy @RepScottPerry @KeithRothfus @RepBillShuster @RepSmucker @CongressmanGT #VoteNoAHCA: GOP lawmakers exempt their own insurance from the changes to the AHCA–but not for PA'ians. https://t.co/Oe2VL3SWOp #SaveACAinPA\n",
      "['reploubarletta', '@', '@', '@', '@', '@', '@', '@', '@', '@', '@', '@', '@', '@', '@', '@', '@', '@', 'votenoahca', 'gop', 'lawmakers', 'exempt', 'their', 'own', 'insurance', 'from', 'the', 'changes', 'to', 'the', 'ahcabut', 'not', 'for', 'paians', '/link', 'saveacainpa']\n",
      "\n",
      "GovernorTomWolf (36 tokens):\n",
      ".@RepLouBarletta @CongBoyle @RepBrady @RepCartwright @RepRyanCostello @RepCharlieDent @USRepMikeDoyle @RepDwightEvans @RepFitzpatrick @MikeKellyPA @RepTomMarino @RepMeehan @RepTimMurphy @RepScottPerry @KeithRothfus @RepBillShuster @RepSmucker @CongressmanGT #VoteNoAHCA: A House Republican actually said \"I don't think any individual has read the whole bill.\" https://t.co/D8ocKpAYFD #SaveACAinPA\n",
      "['reploubarletta', '@', '@', '@', '@', '@', '@', '@', '@', '@', '@', '@', '@', '@', '@', '@', '@', '@', 'votenoahca', 'a', 'house', 'republican', 'actually', 'said', 'i', 'dont', 'think', 'any', 'individual', 'has', 'read', 'the', 'whole', 'bill', '/link', 'saveacainpa']\n",
      "\n",
      "RepDonBeyer (36 tokens):\n",
      ".@ponumurray @ChrisMurphyCT @SenBlumenthal @GerryConnolly @ChrisVanHollen @rosadelauro @RepEsty @Dan_at_Brady @Bradybuzz @NewtownAction In this picture, my friends Andy &amp; Barbara Parker, whose daughter Alison, a tv reporter, was killed by someone who should not have had a gun\n",
      "['ponumurray', '@', '@', '@', '@', '@', '@', '@', '@', '@', 'in', 'this', 'picture', 'my', 'friends', 'andy', 'amp', 'barbara', 'parker', 'whose', 'daughter', 'alison', 'a', 'tv', 'reporter', 'was', 'killed', 'by', 'someone', 'who', 'should', 'not', 'have', 'had', 'a', 'gun']\n",
      "\n"
     ]
    }
   ],
   "source": [
    "# here are the longest tweets with the\n",
    "for row in tweet_df.sort_values(by='token_count', ascending=False).head(5).itertuples():\n",
    "    print(f\"{row.screen_name} ({row.token_count} tokens):\\n{row.text}\\n{row.tokens}\\n\")"
   ]
  },
  {
   "cell_type": "code",
   "execution_count": 74,
   "metadata": {},
   "outputs": [
    {
     "data": {
      "image/png": "[encoded data removed]",
      "text/plain": [
       "<Figure size 600x400 with 1 Axes>"
      ]
     },
     "metadata": {
      "needs_background": "light"
     },
     "output_type": "display_data"
    }
   ],
   "source": [
    "plt.hist(tweet_df.token_count, bins=range(0, tweet_df.token_count.max() + 1))\n",
    "plt.title(\"Distribution of tokens per tweet\")\n",
    "plt.xlabel(\"Number of tokens\")\n",
    "plt.ylabel(\"Number of tweets\")\n",
    "mean_token_count = tweet_df.token_count.mean()\n",
    "plt.axvline(mean_token_count, color='black', label=f'Mean tokens = {mean_token_count:.1f}')\n",
    "plt.legend()\n",
    "plt.show()"
   ]
  },
  {
   "cell_type": "code",
   "execution_count": 75,
   "metadata": {},
   "outputs": [
    {
     "data": {
      "text/plain": [
       "[('@', 989015),\n",
       " ('to', 779941),\n",
       " ('the', 735312),\n",
       " ('/link', 499420),\n",
       " ('of', 367153),\n",
       " ('in', 364656),\n",
       " ('for', 338542),\n",
       " ('a', 279474),\n",
       " ('rt', 267394),\n",
       " ('on', 266927)]"
      ]
     },
     "execution_count": 75,
     "metadata": {},
     "output_type": "execute_result"
    }
   ],
   "source": [
    "from collections import Counter\n",
    "\n",
    "token_counter = Counter()\n",
    "for tokens in tweet_df.tokens:\n",
    "    token_counter.update(tokens)\n",
    "token_counter.most_common(10)"
   ]
  },
  {
   "cell_type": "markdown",
   "metadata": {},
   "source": [
    "### Zipf's Law\n",
    "\n",
    "Word (or token) usage follows a predictable distribution.\n",
    "\n",
    "If 'to' is the most common word and appears at frequency $f_{\\text{max}}$, then the frequency of the second most common word is approximately $f = \\frac{1}{2} f_{\\text{max}}$, the frequency of the third most common word is approximately $f = \\frac{1}{3} f_{\\text{max}}$, etc.\n",
    "\n",
    "In general terms, the $k$th most common word appears with frequency $f = \\frac{1}{k} f_{\\text{max}}$."
   ]
  },
  {
   "cell_type": "code",
   "execution_count": 76,
   "metadata": {},
   "outputs": [
    {
     "data": {
      "image/png": "[encoded data removed]",
      "text/plain": [
       "<Figure size 600x400 with 1 Axes>"
      ]
     },
     "metadata": {
      "needs_background": "light"
     },
     "output_type": "display_data"
    }
   ],
   "source": [
    "# plot word rank vs word count\n",
    "token_counts = np.array([count for token, count in token_counter.most_common()])\n",
    "plt.loglog(range(1, len(token_counts)+1), token_counts)\n",
    "\n",
    "# compute and plot the counts if the true distribution was Zipfian\n",
    "largest_count = token_counts[0]\n",
    "true_zipf = [(1, largest_count)]\n",
    "for i in np.geomspace(1, len(token_counts), endpoint=True, num=25):\n",
    "    rank = int(i) + 1\n",
    "    true_zipf.append((rank, largest_count * 1/rank))\n",
    "xs, ys = zip(*true_zipf)\n",
    "plt.plot(xs, ys, color='gray', linestyle='-', alpha=0.5)\n",
    "plt.xlabel(\"Frequency rank of token\")\n",
    "plt.ylabel(\"Absolute frequency of token\")\n",
    "plt.title(f\"Zipf plot for {len(token_counts):,} unique tokens\")\n",
    "# annotate the hapax legomena \n",
    "plt.annotate(f\"{sum(token_counts == 1) / len(token_counts):.1%} of tokens appear exactly once\",\n",
    "             xy=(len(token_counts) * 0.2, 1), xytext=(10**4.5, 1), arrowprops={'arrowstyle': 'simple'}, va='center', ha='right')\n",
    "plt.show()"
   ]
  },
  {
   "cell_type": "markdown",
   "metadata": {},
   "source": [
    "We call tokens that appear exactly once [_hapax legomena_](https://en.wikipedia.org/wiki/Hapax_legomenon) or sometimes just _hapaxes_.\n",
    "\n",
    "80% is higher than we would expect for more general English text: we would see that number drop if we did further normalization (e.g. so we don't count 'country.'/'country', '#Thanksgiving'/'Thanksgiving', or 'Great'/'great' as different tokens). "
   ]
  },
  {
   "cell_type": "code",
   "execution_count": 77,
   "metadata": {},
   "outputs": [
    {
     "data": {
      "image/png": "[encoded data removed]",
      "text/plain": [
       "<Figure size 600x400 with 1 Axes>"
      ]
     },
     "metadata": {
      "needs_background": "light"
     },
     "output_type": "display_data"
    }
   ],
   "source": [
    "# how large will our vocabulary be at different absolute token frequency cut-offs?\n",
    "xs = []\n",
    "ys =[]\n",
    "for i in range(2, 10):\n",
    "    xs.append(i)\n",
    "    ys.append(np.sum(token_counts >= i))\n",
    "    \n",
    "plt.plot(xs, ys)\n",
    "plt.show()"
   ]
  },
  {
   "cell_type": "markdown",
   "metadata": {},
   "source": [
    "Note: vocabulary size is an empirical question, and should be chosen based on desired purpose. If the goal is to maximize predictive model performance, than vocab size should be treated as a hyperparameter during model selection.\n",
    "\n",
    "We'll set our vocab size to 30,000, which is a reasonable and fairly common value."
   ]
  },
  {
   "cell_type": "code",
   "execution_count": 78,
   "metadata": {},
   "outputs": [],
   "source": [
    "V = 30000\n",
    "token_index_map = {}\n",
    "index = 0\n",
    "for token, count in token_counter.most_common(V):\n",
    "    token_index_map[token] = index\n",
    "    index += 1"
   ]
  },
  {
   "cell_type": "code",
   "execution_count": 79,
   "metadata": {},
   "outputs": [],
   "source": [
    "# to check our work, we need to map back from indices to the actual token text\n",
    "index_token_map = {index: token for token, index in token_index_map.items()}"
   ]
  },
  {
   "cell_type": "code",
   "execution_count": 81,
   "metadata": {},
   "outputs": [
    {
     "data": {
      "text/plain": [
       "1437"
      ]
     },
     "execution_count": 81,
     "metadata": {},
     "output_type": "execute_result"
    }
   ],
   "source": [
    "token_index_map['iraq']"
   ]
  },
  {
   "cell_type": "code",
   "execution_count": 83,
   "metadata": {},
   "outputs": [
    {
     "data": {
      "text/plain": [
       "'iraq'"
      ]
     },
     "execution_count": 83,
     "metadata": {},
     "output_type": "execute_result"
    }
   ],
   "source": [
    "index_token_map[1437]"
   ]
  },
  {
   "cell_type": "code",
   "execution_count": 84,
   "metadata": {},
   "outputs": [
    {
     "data": {
      "text/plain": [
       "'demos'"
      ]
     },
     "execution_count": 84,
     "metadata": {},
     "output_type": "execute_result"
    }
   ],
   "source": [
    "# the very last word in our vocabulary\n",
    "index_token_map[29999]"
   ]
  },
  {
   "cell_type": "markdown",
   "metadata": {},
   "source": [
    "Building the [document-term matrix](https://en.wikipedia.org/wiki/Document-term_matrix). (\"Term\" just means \"token\".)"
   ]
  },
  {
   "cell_type": "code",
   "execution_count": 85,
   "metadata": {},
   "outputs": [
    {
     "data": {
      "text/plain": [
       "200000"
      ]
     },
     "execution_count": 85,
     "metadata": {},
     "output_type": "execute_result"
    }
   ],
   "source": [
    "n_train = 100000\n",
    "n_test = 100000\n",
    "sdf = tweet_df.sample(n=n_train + n_test)\n",
    "len(sdf)"
   ]
  },
  {
   "cell_type": "code",
   "execution_count": 86,
   "metadata": {},
   "outputs": [
    {
     "name": "stderr",
     "output_type": "stream",
     "text": [
      "100%|███████████████████████████████████████████████████████████████████████████████████████████████████████████████████████████████████████████████████████████████████████████████████████████████| 200000/200000 [00:26<00:00, 7450.88it/s]\n"
     ]
    },
    {
     "data": {
      "text/plain": [
       "(200000, 30001)"
      ]
     },
     "execution_count": 86,
     "metadata": {},
     "output_type": "execute_result"
    }
   ],
   "source": [
    "from tqdm import tqdm\n",
    "X = np.zeros((len(sdf), V + 1), dtype='float32')\n",
    "for row_ind, tokens in tqdm(enumerate(sdf.tokens), total=len(sdf)):\n",
    "    for token in tokens:\n",
    "        if token not in token_index_map:\n",
    "            # this is a word not in the vocabulary!\n",
    "            continue\n",
    "        column_ind = token_index_map[token]\n",
    "        X[row_ind, column_ind] += 1\n",
    "    # the intercept column is always 1\n",
    "    X[row_ind, V] = 1\n",
    "X.shape"
   ]
  },
  {
   "cell_type": "code",
   "execution_count": 88,
   "metadata": {},
   "outputs": [
    {
     "name": "stdout",
     "output_type": "stream",
     "text": [
      "RT @JudgeJohnCarter: Enjoyed @RepBillFlores #prayer for a #StrongerAmerica #rpt16 #RPT2016 #UniteToWin2016 https://t.co/KZd9vvCEx2\n",
      "\n",
      "ind=     0  n= 2  token= @\n",
      "ind=     3  n= 1  token= /link\n",
      "ind=     6  n= 1  token= for\n",
      "ind=     7  n= 1  token= a\n",
      "ind=     8  n= 1  token= rt\n",
      "ind=   260  n= 1  token= enjoyed\n",
      "ind=  1752  n= 1  token= prayer\n",
      "ind=  6278  n= 1  token= strongeramerica\n",
      "ind= 30000  n= 1  intercept\n"
     ]
    }
   ],
   "source": [
    "row_ind = 0\n",
    "print(sdf.iloc[row_ind].text + \"\\n\")\n",
    "\n",
    "for column_ind in np.argwhere(X[row_ind,:]).ravel():\n",
    "    if column_ind == V:\n",
    "        print(f\"ind= {column_ind:>5}  n= {X[row_ind,column_ind]:.0f}  intercept\")\n",
    "    else:\n",
    "        token = index_token_map[column_ind]\n",
    "        print(f\"ind= {column_ind:>5}  n= {X[row_ind,column_ind]:.0f}  token= {token}\")\n"
   ]
  },
  {
   "cell_type": "code",
   "execution_count": 89,
   "metadata": {},
   "outputs": [
    {
     "data": {
      "text/plain": [
       "(200000,)"
      ]
     },
     "execution_count": 89,
     "metadata": {},
     "output_type": "execute_result"
    }
   ],
   "source": [
    "y = np.array(sdf.favorite_count, dtype='float32')\n",
    "y.shape"
   ]
  },
  {
   "cell_type": "code",
   "execution_count": 90,
   "metadata": {},
   "outputs": [
    {
     "data": {
      "text/plain": [
       "(200000, 30001)"
      ]
     },
     "execution_count": 90,
     "metadata": {},
     "output_type": "execute_result"
    }
   ],
   "source": [
    "X.shape"
   ]
  },
  {
   "cell_type": "code",
   "execution_count": 91,
   "metadata": {},
   "outputs": [
    {
     "data": {
      "text/plain": [
       "22.352486848831177"
      ]
     },
     "execution_count": 91,
     "metadata": {},
     "output_type": "execute_result"
    }
   ],
   "source": [
    "X.nbytes / 1024 / 1024 / 1024  # 22 GB!!!"
   ]
  },
  {
   "cell_type": "code",
   "execution_count": 92,
   "metadata": {},
   "outputs": [
    {
     "data": {
      "text/plain": [
       "((100000, 30001), (100000, 30001))"
      ]
     },
     "execution_count": 92,
     "metadata": {},
     "output_type": "execute_result"
    }
   ],
   "source": [
    "X_train = X[:n_train]\n",
    "X_test = X[n_train:]\n",
    "X_train.shape, X_test.shape"
   ]
  },
  {
   "cell_type": "code",
   "execution_count": 93,
   "metadata": {},
   "outputs": [
    {
     "data": {
      "text/plain": [
       "((100000,), (100000,))"
      ]
     },
     "execution_count": 93,
     "metadata": {},
     "output_type": "execute_result"
    }
   ],
   "source": [
    "y_train = y[:n_train]\n",
    "y_test = y[n_train:]\n",
    "y_train.shape, y_test.shape"
   ]
  },
  {
   "cell_type": "code",
   "execution_count": 32,
   "metadata": {},
   "outputs": [
    {
     "data": {
      "text/plain": [
       "(30001,)"
      ]
     },
     "execution_count": 32,
     "metadata": {},
     "output_type": "execute_result"
    }
   ],
   "source": [
    "import sklearn.linear_model\n",
    "model = sklearn.linear_model.LinearRegression(fit_intercept=False)\n",
    "model.fit(X_train, y_train)\n",
    "model.coef_.shape"
   ]
  },
  {
   "cell_type": "code",
   "execution_count": null,
   "metadata": {},
   "outputs": [],
   "source": []
  },
  {
   "cell_type": "code",
   "execution_count": null,
   "metadata": {},
   "outputs": [],
   "source": []
  },
  {
   "cell_type": "code",
   "execution_count": 37,
   "metadata": {},
   "outputs": [
    {
     "data": {
      "text/plain": [
       "(30001, 30001)"
      ]
     },
     "execution_count": 37,
     "metadata": {},
     "output_type": "execute_result"
    }
   ],
   "source": [
    "A = np.matmul(X_train.T, X_train)\n",
    "A.shape"
   ]
  },
  {
   "cell_type": "code",
   "execution_count": 39,
   "metadata": {},
   "outputs": [
    {
     "name": "stderr",
     "output_type": "stream",
     "text": [
      "init_dgesdd failed init\n"
     ]
    }
   ],
   "source": [
    "A_inv = np.linalg.pinv(A)"
   ]
  },
  {
   "cell_type": "code",
   "execution_count": 46,
   "metadata": {},
   "outputs": [
    {
     "data": {
      "text/plain": [
       "(100000, 1)"
      ]
     },
     "execution_count": 46,
     "metadata": {},
     "output_type": "execute_result"
    }
   ],
   "source": [
    "y_train = y_train.reshape((-1, 1))\n",
    "y_train.shape"
   ]
  },
  {
   "cell_type": "code",
   "execution_count": 47,
   "metadata": {},
   "outputs": [
    {
     "data": {
      "text/plain": [
       "(30001, 1)"
      ]
     },
     "execution_count": 47,
     "metadata": {},
     "output_type": "execute_result"
    }
   ],
   "source": [
    "w = A_inv.dot(X_train.T).dot(y_train)\n",
    "w.shape"
   ]
  },
  {
   "cell_type": "code",
   "execution_count": 37,
   "metadata": {},
   "outputs": [
    {
     "data": {
      "image/png": "[encoded data removed]",
      "text/plain": [
       "<Figure size 600x400 with 1 Axes>"
      ]
     },
     "metadata": {
      "needs_background": "light"
     },
     "output_type": "display_data"
    }
   ],
   "source": [
    "#random_inds = np.random.permutation(np.arange(len(w)))\n",
    "w = model.coef_\n",
    "#plt.bar(range(len(w)), w, width=1)\n",
    "plt.plot(range(len(w)), w, linewidth=1)\n",
    "plt.show()"
   ]
  },
  {
   "cell_type": "code",
   "execution_count": 94,
   "metadata": {},
   "outputs": [
    {
     "data": {
      "text/plain": [
       "(30001,)"
      ]
     },
     "execution_count": 94,
     "metadata": {},
     "output_type": "execute_result"
    }
   ],
   "source": [
    "import sklearn.linear_model\n",
    "model = sklearn.linear_model.ElasticNet(fit_intercept=False)\n",
    "model.fit(X_train, y_train)\n",
    "model.coef_.shape"
   ]
  },
  {
   "cell_type": "code",
   "execution_count": 95,
   "metadata": {},
   "outputs": [
    {
     "data": {
      "text/plain": [
       "907"
      ]
     },
     "execution_count": 95,
     "metadata": {},
     "output_type": "execute_result"
    }
   ],
   "source": [
    "# non-zero coefficients\n",
    "np.sum(~np.isclose(model.coef_[:-1], 0))"
   ]
  },
  {
   "cell_type": "code",
   "execution_count": 113,
   "metadata": {},
   "outputs": [
    {
     "data": {
      "text/plain": [
       "907"
      ]
     },
     "execution_count": 113,
     "metadata": {},
     "output_type": "execute_result"
    }
   ],
   "source": [
    "w = model.coef_\n",
    "weights = []\n",
    "for i, weight in enumerate(w[:-1]):\n",
    "    token = index_token_map[i]\n",
    "    if weight != 0:\n",
    "        weights.append({\n",
    "            'token': token,\n",
    "            'token_count': token_counter[token],\n",
    "            'weight': weight,\n",
    "            'abs_weight': np.abs(weight),\n",
    "        })\n",
    "        \n",
    "#w = w[:-1]  # remove the intercept\n",
    "#w.sort()\n",
    "#w = w[~np.isclose(w, 0)]\n",
    "weight_df = pd.DataFrame(weights)\n",
    "len(weight_df)"
   ]
  },
  {
   "cell_type": "code",
   "execution_count": 114,
   "metadata": {},
   "outputs": [
    {
     "data": {
      "text/html": [
       "<div>\n",
       "<style scoped>\n",
       "    .dataframe tbody tr th:only-of-type {\n",
       "        vertical-align: middle;\n",
       "    }\n",
       "\n",
       "    .dataframe tbody tr th {\n",
       "        vertical-align: top;\n",
       "    }\n",
       "\n",
       "    .dataframe thead th {\n",
       "        text-align: right;\n",
       "    }\n",
       "</style>\n",
       "<table border=\"1\" class=\"dataframe\">\n",
       "  <thead>\n",
       "    <tr style=\"text-align: right;\">\n",
       "      <th></th>\n",
       "      <th>token</th>\n",
       "      <th>token_count</th>\n",
       "      <th>weight</th>\n",
       "      <th>abs_weight</th>\n",
       "    </tr>\n",
       "  </thead>\n",
       "  <tbody>\n",
       "    <tr>\n",
       "      <th>2</th>\n",
       "      <td>the</td>\n",
       "      <td>735312</td>\n",
       "      <td>53.594498</td>\n",
       "      <td>53.594498</td>\n",
       "    </tr>\n",
       "    <tr>\n",
       "      <th>11</th>\n",
       "      <td>is</td>\n",
       "      <td>167350</td>\n",
       "      <td>51.791077</td>\n",
       "      <td>51.791077</td>\n",
       "    </tr>\n",
       "    <tr>\n",
       "      <th>9</th>\n",
       "      <td>and</td>\n",
       "      <td>250558</td>\n",
       "      <td>49.726624</td>\n",
       "      <td>49.726624</td>\n",
       "    </tr>\n",
       "    <tr>\n",
       "      <th>23</th>\n",
       "      <td>will</td>\n",
       "      <td>83496</td>\n",
       "      <td>43.519436</td>\n",
       "      <td>43.519436</td>\n",
       "    </tr>\n",
       "    <tr>\n",
       "      <th>18</th>\n",
       "      <td>we</td>\n",
       "      <td>118824</td>\n",
       "      <td>31.727180</td>\n",
       "      <td>31.727180</td>\n",
       "    </tr>\n",
       "    <tr>\n",
       "      <th>3</th>\n",
       "      <td>/link</td>\n",
       "      <td>499420</td>\n",
       "      <td>30.795961</td>\n",
       "      <td>30.795961</td>\n",
       "    </tr>\n",
       "    <tr>\n",
       "      <th>15</th>\n",
       "      <td>i</td>\n",
       "      <td>131962</td>\n",
       "      <td>30.680773</td>\n",
       "      <td>30.680773</td>\n",
       "    </tr>\n",
       "    <tr>\n",
       "      <th>6</th>\n",
       "      <td>a</td>\n",
       "      <td>279474</td>\n",
       "      <td>29.631046</td>\n",
       "      <td>29.631046</td>\n",
       "    </tr>\n",
       "    <tr>\n",
       "      <th>74</th>\n",
       "      <td>they</td>\n",
       "      <td>25131</td>\n",
       "      <td>24.120056</td>\n",
       "      <td>24.120056</td>\n",
       "    </tr>\n",
       "    <tr>\n",
       "      <th>31</th>\n",
       "      <td>have</td>\n",
       "      <td>63147</td>\n",
       "      <td>23.424078</td>\n",
       "      <td>23.424078</td>\n",
       "    </tr>\n",
       "  </tbody>\n",
       "</table>\n",
       "</div>"
      ],
      "text/plain": [
       "    token  token_count     weight  abs_weight\n",
       "2     the       735312  53.594498   53.594498\n",
       "11     is       167350  51.791077   51.791077\n",
       "9     and       250558  49.726624   49.726624\n",
       "23   will        83496  43.519436   43.519436\n",
       "18     we       118824  31.727180   31.727180\n",
       "3   /link       499420  30.795961   30.795961\n",
       "15      i       131962  30.680773   30.680773\n",
       "6       a       279474  29.631046   29.631046\n",
       "74   they        25131  24.120056   24.120056\n",
       "31   have        63147  23.424078   23.424078"
      ]
     },
     "execution_count": 114,
     "metadata": {},
     "output_type": "execute_result"
    }
   ],
   "source": [
    "weight_df.sort_values(by='weight', ascending=False).head(10)"
   ]
  },
  {
   "cell_type": "code",
   "execution_count": 115,
   "metadata": {},
   "outputs": [
    {
     "data": {
      "text/html": [
       "<div>\n",
       "<style scoped>\n",
       "    .dataframe tbody tr th:only-of-type {\n",
       "        vertical-align: middle;\n",
       "    }\n",
       "\n",
       "    .dataframe tbody tr th {\n",
       "        vertical-align: top;\n",
       "    }\n",
       "\n",
       "    .dataframe thead th {\n",
       "        text-align: right;\n",
       "    }\n",
       "</style>\n",
       "<table border=\"1\" class=\"dataframe\">\n",
       "  <thead>\n",
       "    <tr style=\"text-align: right;\">\n",
       "      <th></th>\n",
       "      <th>token</th>\n",
       "      <th>token_count</th>\n",
       "      <th>weight</th>\n",
       "      <th>abs_weight</th>\n",
       "    </tr>\n",
       "  </thead>\n",
       "  <tbody>\n",
       "    <tr>\n",
       "      <th>0</th>\n",
       "      <td>@</td>\n",
       "      <td>989015</td>\n",
       "      <td>-33.517887</td>\n",
       "      <td>33.517887</td>\n",
       "    </tr>\n",
       "    <tr>\n",
       "      <th>7</th>\n",
       "      <td>rt</td>\n",
       "      <td>267394</td>\n",
       "      <td>-31.069569</td>\n",
       "      <td>31.069569</td>\n",
       "    </tr>\n",
       "    <tr>\n",
       "      <th>20</th>\n",
       "      <td>today</td>\n",
       "      <td>103775</td>\n",
       "      <td>-10.088549</td>\n",
       "      <td>10.088549</td>\n",
       "    </tr>\n",
       "    <tr>\n",
       "      <th>42</th>\n",
       "      <td>thanks</td>\n",
       "      <td>44461</td>\n",
       "      <td>-6.418712</td>\n",
       "      <td>6.418712</td>\n",
       "    </tr>\n",
       "    <tr>\n",
       "      <th>37</th>\n",
       "      <td>bill</td>\n",
       "      <td>47668</td>\n",
       "      <td>-6.330957</td>\n",
       "      <td>6.330957</td>\n",
       "    </tr>\n",
       "    <tr>\n",
       "      <th>62</th>\n",
       "      <td>proud</td>\n",
       "      <td>29286</td>\n",
       "      <td>-4.065671</td>\n",
       "      <td>4.065671</td>\n",
       "    </tr>\n",
       "    <tr>\n",
       "      <th>38</th>\n",
       "      <td>house</td>\n",
       "      <td>47323</td>\n",
       "      <td>-3.883245</td>\n",
       "      <td>3.883245</td>\n",
       "    </tr>\n",
       "    <tr>\n",
       "      <th>21</th>\n",
       "      <td>from</td>\n",
       "      <td>88361</td>\n",
       "      <td>-3.640216</td>\n",
       "      <td>3.640216</td>\n",
       "    </tr>\n",
       "    <tr>\n",
       "      <th>51</th>\n",
       "      <td>act</td>\n",
       "      <td>35523</td>\n",
       "      <td>-3.527932</td>\n",
       "      <td>3.527932</td>\n",
       "    </tr>\n",
       "    <tr>\n",
       "      <th>93</th>\n",
       "      <td>office</td>\n",
       "      <td>21905</td>\n",
       "      <td>-3.497819</td>\n",
       "      <td>3.497819</td>\n",
       "    </tr>\n",
       "  </tbody>\n",
       "</table>\n",
       "</div>"
      ],
      "text/plain": [
       "     token  token_count     weight  abs_weight\n",
       "0        @       989015 -33.517887   33.517887\n",
       "7       rt       267394 -31.069569   31.069569\n",
       "20   today       103775 -10.088549   10.088549\n",
       "42  thanks        44461  -6.418712    6.418712\n",
       "37    bill        47668  -6.330957    6.330957\n",
       "62   proud        29286  -4.065671    4.065671\n",
       "38   house        47323  -3.883245    3.883245\n",
       "21    from        88361  -3.640216    3.640216\n",
       "51     act        35523  -3.527932    3.527932\n",
       "93  office        21905  -3.497819    3.497819"
      ]
     },
     "execution_count": 115,
     "metadata": {},
     "output_type": "execute_result"
    }
   ],
   "source": [
    "weight_df.sort_values(by='weight', ascending=True).head(10)"
   ]
  },
  {
   "cell_type": "code",
   "execution_count": 118,
   "metadata": {},
   "outputs": [
    {
     "data": {
      "text/html": [
       "<div>\n",
       "<style scoped>\n",
       "    .dataframe tbody tr th:only-of-type {\n",
       "        vertical-align: middle;\n",
       "    }\n",
       "\n",
       "    .dataframe tbody tr th {\n",
       "        vertical-align: top;\n",
       "    }\n",
       "\n",
       "    .dataframe thead th {\n",
       "        text-align: right;\n",
       "    }\n",
       "</style>\n",
       "<table border=\"1\" class=\"dataframe\">\n",
       "  <thead>\n",
       "    <tr style=\"text-align: right;\">\n",
       "      <th></th>\n",
       "      <th>token</th>\n",
       "      <th>token_count</th>\n",
       "      <th>weight</th>\n",
       "      <th>abs_weight</th>\n",
       "    </tr>\n",
       "  </thead>\n",
       "  <tbody>\n",
       "    <tr>\n",
       "      <th>678</th>\n",
       "      <td>holdthefloor</td>\n",
       "      <td>613</td>\n",
       "      <td>0.001167</td>\n",
       "      <td>0.001167</td>\n",
       "    </tr>\n",
       "    <tr>\n",
       "      <th>418</th>\n",
       "      <td>visited</td>\n",
       "      <td>3838</td>\n",
       "      <td>-0.002096</td>\n",
       "      <td>0.002096</td>\n",
       "    </tr>\n",
       "    <tr>\n",
       "      <th>317</th>\n",
       "      <td>latest</td>\n",
       "      <td>6193</td>\n",
       "      <td>-0.003757</td>\n",
       "      <td>0.003757</td>\n",
       "    </tr>\n",
       "    <tr>\n",
       "      <th>461</th>\n",
       "      <td>ahead</td>\n",
       "      <td>2850</td>\n",
       "      <td>0.006283</td>\n",
       "      <td>0.006283</td>\n",
       "    </tr>\n",
       "    <tr>\n",
       "      <th>689</th>\n",
       "      <td>j</td>\n",
       "      <td>576</td>\n",
       "      <td>0.006338</td>\n",
       "      <td>0.006338</td>\n",
       "    </tr>\n",
       "    <tr>\n",
       "      <th>568</th>\n",
       "      <td>society</td>\n",
       "      <td>1473</td>\n",
       "      <td>0.006451</td>\n",
       "      <td>0.006451</td>\n",
       "    </tr>\n",
       "    <tr>\n",
       "      <th>895</th>\n",
       "      <td>g7</td>\n",
       "      <td>25</td>\n",
       "      <td>0.007846</td>\n",
       "      <td>0.007846</td>\n",
       "    </tr>\n",
       "    <tr>\n",
       "      <th>415</th>\n",
       "      <td>allow</td>\n",
       "      <td>3868</td>\n",
       "      <td>0.008158</td>\n",
       "      <td>0.008158</td>\n",
       "    </tr>\n",
       "    <tr>\n",
       "      <th>217</th>\n",
       "      <td>action</td>\n",
       "      <td>9263</td>\n",
       "      <td>-0.009150</td>\n",
       "      <td>0.009150</td>\n",
       "    </tr>\n",
       "    <tr>\n",
       "      <th>657</th>\n",
       "      <td>guy</td>\n",
       "      <td>800</td>\n",
       "      <td>0.010701</td>\n",
       "      <td>0.010701</td>\n",
       "    </tr>\n",
       "  </tbody>\n",
       "</table>\n",
       "</div>"
      ],
      "text/plain": [
       "            token  token_count    weight  abs_weight\n",
       "678  holdthefloor          613  0.001167    0.001167\n",
       "418       visited         3838 -0.002096    0.002096\n",
       "317        latest         6193 -0.003757    0.003757\n",
       "461         ahead         2850  0.006283    0.006283\n",
       "689             j          576  0.006338    0.006338\n",
       "568       society         1473  0.006451    0.006451\n",
       "895            g7           25  0.007846    0.007846\n",
       "415         allow         3868  0.008158    0.008158\n",
       "217        action         9263 -0.009150    0.009150\n",
       "657           guy          800  0.010701    0.010701"
      ]
     },
     "execution_count": 118,
     "metadata": {},
     "output_type": "execute_result"
    }
   ],
   "source": [
    "weight_df[weight_df.token_count <= weight_df.token_count.quantile(0.99)].sort_values(by='abs_weight', ascending=True).head(10)"
   ]
  },
  {
   "cell_type": "code",
   "execution_count": null,
   "metadata": {},
   "outputs": [],
   "source": []
  },
  {
   "cell_type": "code",
   "execution_count": 100,
   "metadata": {},
   "outputs": [
    {
     "data": {
      "image/png": "[encoded data removed]",
      "text/plain": [
       "<Figure size 600x400 with 1 Axes>"
      ]
     },
     "metadata": {
      "needs_background": "light"
     },
     "output_type": "display_data"
    }
   ],
   "source": [
    "#random_inds = np.random.permutation(np.arange(len(w)))\n",
    "w = model.coef_[:-1]\n",
    "#plt.bar(range(len(w)), w, width=1)\n",
    "plt.vlines(range(len(w)), np.minimum(w, 0), np.maximum(w, 0))\n",
    "#plt.plot(range(len(w)), w, linewidth=1)\n",
    "plt.show()"
   ]
  },
  {
   "cell_type": "code",
   "execution_count": 119,
   "metadata": {},
   "outputs": [
    {
     "data": {
      "text/plain": [
       "(100000,)"
      ]
     },
     "execution_count": 119,
     "metadata": {},
     "output_type": "execute_result"
    }
   ],
   "source": [
    "y_pred = model.predict(X_test)\n",
    "y_pred.shape"
   ]
  },
  {
   "cell_type": "code",
   "execution_count": 127,
   "metadata": {},
   "outputs": [
    {
     "data": {
      "image/png": "[encoded data removed]",
      "text/plain": [
       "<Figure size 600x400 with 1 Axes>"
      ]
     },
     "metadata": {
      "needs_background": "light"
     },
     "output_type": "display_data"
    }
   ],
   "source": [
    "bins = np.linspace(0, np.quantile(y_test, 0.99))\n",
    "plt.hist(y_test, bins=bins, alpha=0.5, log=True)\n",
    "plt.hist(y_pred, bins=bins, alpha=0.5, log=True)\n",
    "plt.show()"
   ]
  },
  {
   "cell_type": "markdown",
   "metadata": {},
   "source": [
    "This is an indication that our model may not be expressive enough to capture more complex associations between tweet content and number of likes."
   ]
  },
  {
   "cell_type": "code",
   "execution_count": 142,
   "metadata": {},
   "outputs": [
    {
     "data": {
      "image/png": "[encoded data removed]",
      "text/plain": [
       "<Figure size 600x400 with 1 Axes>"
      ]
     },
     "metadata": {
      "needs_background": "light"
     },
     "output_type": "display_data"
    },
    {
     "data": {
      "text/plain": [
       "137.41283"
      ]
     },
     "execution_count": 142,
     "metadata": {},
     "output_type": "execute_result"
    }
   ],
   "source": [
    "errors = y_pred - y_test\n",
    "plt.hist(errors, log=True, bins=np.linspace(np.quantile(errors, 0.01), np.quantile(errors, 0.99)))\n",
    "plt.axvline(np.mean(errors), linestyle='--', color='black')\n",
    "plt.axvline(np.median(errors), linestyle='--', color='black')\n",
    "plt.show()\n",
    "np.median(errors)"
   ]
  },
  {
   "cell_type": "markdown",
   "metadata": {},
   "source": [
    "If we just use the mean or the median, we'd misunderstand our model's behavior.\n",
    "\n",
    " - More than half of tweets we overestimate the number of likes they'll receive.\n",
    " - ... but, we sometimes are horribly wrong (i.e. bad at predicting breakout successes)."
   ]
  },
  {
   "cell_type": "code",
   "execution_count": 136,
   "metadata": {},
   "outputs": [
    {
     "data": {
      "text/plain": [
       "0.30653"
      ]
     },
     "execution_count": 136,
     "metadata": {},
     "output_type": "execute_result"
    }
   ],
   "source": [
    "np.sum(np.abs(errors) <= 100) / len(errors)"
   ]
  },
  {
   "cell_type": "code",
   "execution_count": 138,
   "metadata": {},
   "outputs": [
    {
     "data": {
      "text/plain": [
       "0.08007"
      ]
     },
     "execution_count": 138,
     "metadata": {},
     "output_type": "execute_result"
    }
   ],
   "source": [
    "np.sum(errors < 0) / len(errors)"
   ]
  },
  {
   "cell_type": "code",
   "execution_count": null,
   "metadata": {},
   "outputs": [],
   "source": []
  }
 ],
 "metadata": {
  "kernelspec": {
   "display_name": "Flagon Python3",
   "language": "python",
   "name": "flagon-conda-env"
  },
  "language_info": {
   "codemirror_mode": {
    "name": "ipython",
    "version": 3
   },
   "file_extension": ".py",
   "mimetype": "text/x-python",
   "name": "python",
   "nbconvert_exporter": "python",
   "pygments_lexer": "ipython3",
   "version": "3.7.11"
  }
 },
 "nbformat": 4,
 "nbformat_minor": 4
}
